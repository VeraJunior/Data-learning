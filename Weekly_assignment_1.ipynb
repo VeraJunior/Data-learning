{
 "cells": [
  {
   "cell_type": "markdown",
   "metadata": {},
   "source": [
    "# Weekly assignment 1\n",
    "\n",
    "### Objective\n",
    "Learn how to clean data and to investigate distributions. "
   ]
  },
  {
   "cell_type": "markdown",
   "metadata": {},
   "source": [
    "## Import the data\n",
    "\n",
    "The data is in two files: 'survey.csv' and 'steps.csv'. The 'steps' file is separated with a semicolon instead of a comma, so that needs to be specified."
   ]
  },
  {
   "cell_type": "code",
   "execution_count": 1,
   "metadata": {},
   "outputs": [],
   "source": [
    "import pandas as pd\n",
    "import seaborn as sns\n",
    "import matplotlib.pyplot as plt\n",
    "\n",
    "steps = pd.read_csv('steps.csv', sep=';' )\n",
    "survey = pd.read_csv('survey.csv')"
   ]
  },
  {
   "cell_type": "markdown",
   "metadata": {},
   "source": [
    "To figure out which column can be used to merge the datasets I print *.info()* for both dataframes. It turns out that 'steps' has too many columns to display all column names like with 'survey'. But the first column turns out to be 'id', which is also present in 'survey'."
   ]
  },
  {
   "cell_type": "code",
   "execution_count": 2,
   "metadata": {
    "scrolled": false
   },
   "outputs": [
    {
     "name": "stdout",
     "output_type": "stream",
     "text": [
      "<class 'pandas.core.frame.DataFrame'>\n",
      "RangeIndex: 929 entries, 0 to 928\n",
      "Columns: 329 entries, id to 13-5-2014\n",
      "dtypes: float64(328), int64(1)\n",
      "memory usage: 2.3 MB\n"
     ]
    }
   ],
   "source": [
    "steps.info()"
   ]
  },
  {
   "cell_type": "code",
   "execution_count": 3,
   "metadata": {},
   "outputs": [
    {
     "name": "stdout",
     "output_type": "stream",
     "text": [
      "<class 'pandas.core.frame.DataFrame'>\n",
      "RangeIndex: 929 entries, 0 to 928\n",
      "Data columns (total 9 columns):\n",
      " #   Column       Non-Null Count  Dtype  \n",
      "---  ------       --------------  -----  \n",
      " 0   id           929 non-null    int64  \n",
      " 1   city         929 non-null    object \n",
      " 2   gender       929 non-null    object \n",
      " 3   age          929 non-null    object \n",
      " 4   hh_size      929 non-null    int64  \n",
      " 5   education    929 non-null    int64  \n",
      " 6   education_1  929 non-null    object \n",
      " 7   height       928 non-null    float64\n",
      " 8   weight       927 non-null    float64\n",
      "dtypes: float64(2), int64(3), object(4)\n",
      "memory usage: 65.4+ KB\n"
     ]
    }
   ],
   "source": [
    "survey.info()"
   ]
  },
  {
   "cell_type": "markdown",
   "metadata": {},
   "source": [
    "The next step is merging both dataframes into a new dataframe, called 'df_combi'."
   ]
  },
  {
   "cell_type": "code",
   "execution_count": 4,
   "metadata": {
    "scrolled": false
   },
   "outputs": [
    {
     "data": {
      "text/html": [
       "<div>\n",
       "<style scoped>\n",
       "    .dataframe tbody tr th:only-of-type {\n",
       "        vertical-align: middle;\n",
       "    }\n",
       "\n",
       "    .dataframe tbody tr th {\n",
       "        vertical-align: top;\n",
       "    }\n",
       "\n",
       "    .dataframe thead th {\n",
       "        text-align: right;\n",
       "    }\n",
       "</style>\n",
       "<table border=\"1\" class=\"dataframe\">\n",
       "  <thead>\n",
       "    <tr style=\"text-align: right;\">\n",
       "      <th></th>\n",
       "      <th>id</th>\n",
       "      <th>city</th>\n",
       "      <th>gender</th>\n",
       "      <th>age</th>\n",
       "      <th>hh_size</th>\n",
       "      <th>education</th>\n",
       "      <th>education_1</th>\n",
       "      <th>height</th>\n",
       "      <th>weight</th>\n",
       "      <th>20-6-2013</th>\n",
       "      <th>...</th>\n",
       "      <th>4-5-2014</th>\n",
       "      <th>5-5-2014</th>\n",
       "      <th>6-5-2014</th>\n",
       "      <th>7-5-2014</th>\n",
       "      <th>8-5-2014</th>\n",
       "      <th>9-5-2014</th>\n",
       "      <th>10-5-2014</th>\n",
       "      <th>11-5-2014</th>\n",
       "      <th>12-5-2014</th>\n",
       "      <th>13-5-2014</th>\n",
       "    </tr>\n",
       "  </thead>\n",
       "  <tbody>\n",
       "    <tr>\n",
       "      <th>0</th>\n",
       "      <td>1</td>\n",
       "      <td>Bordeaux</td>\n",
       "      <td>Male</td>\n",
       "      <td>25-34</td>\n",
       "      <td>4</td>\n",
       "      <td>4</td>\n",
       "      <td>Master or doctorate</td>\n",
       "      <td>178.0</td>\n",
       "      <td>98.0</td>\n",
       "      <td>NaN</td>\n",
       "      <td>...</td>\n",
       "      <td>NaN</td>\n",
       "      <td>NaN</td>\n",
       "      <td>NaN</td>\n",
       "      <td>NaN</td>\n",
       "      <td>NaN</td>\n",
       "      <td>NaN</td>\n",
       "      <td>NaN</td>\n",
       "      <td>NaN</td>\n",
       "      <td>NaN</td>\n",
       "      <td>NaN</td>\n",
       "    </tr>\n",
       "    <tr>\n",
       "      <th>1</th>\n",
       "      <td>2</td>\n",
       "      <td>Lille</td>\n",
       "      <td>Male</td>\n",
       "      <td>35-44</td>\n",
       "      <td>1</td>\n",
       "      <td>3</td>\n",
       "      <td>Bachelor</td>\n",
       "      <td>180.0</td>\n",
       "      <td>77.0</td>\n",
       "      <td>NaN</td>\n",
       "      <td>...</td>\n",
       "      <td>NaN</td>\n",
       "      <td>NaN</td>\n",
       "      <td>NaN</td>\n",
       "      <td>NaN</td>\n",
       "      <td>NaN</td>\n",
       "      <td>NaN</td>\n",
       "      <td>NaN</td>\n",
       "      <td>NaN</td>\n",
       "      <td>NaN</td>\n",
       "      <td>NaN</td>\n",
       "    </tr>\n",
       "    <tr>\n",
       "      <th>2</th>\n",
       "      <td>3</td>\n",
       "      <td>Montpellier</td>\n",
       "      <td>Male</td>\n",
       "      <td>25-34</td>\n",
       "      <td>2</td>\n",
       "      <td>2</td>\n",
       "      <td>Master or doctorate</td>\n",
       "      <td>180.0</td>\n",
       "      <td>83.0</td>\n",
       "      <td>NaN</td>\n",
       "      <td>...</td>\n",
       "      <td>3914.0</td>\n",
       "      <td>4364.0</td>\n",
       "      <td>NaN</td>\n",
       "      <td>NaN</td>\n",
       "      <td>NaN</td>\n",
       "      <td>6227.0</td>\n",
       "      <td>4567.0</td>\n",
       "      <td>2567.0</td>\n",
       "      <td>1129.0</td>\n",
       "      <td>NaN</td>\n",
       "    </tr>\n",
       "    <tr>\n",
       "      <th>3</th>\n",
       "      <td>4</td>\n",
       "      <td>Lyon</td>\n",
       "      <td>Male</td>\n",
       "      <td>&lt;25</td>\n",
       "      <td>1</td>\n",
       "      <td>1</td>\n",
       "      <td>Bachelor</td>\n",
       "      <td>178.0</td>\n",
       "      <td>80.0</td>\n",
       "      <td>NaN</td>\n",
       "      <td>...</td>\n",
       "      <td>NaN</td>\n",
       "      <td>NaN</td>\n",
       "      <td>NaN</td>\n",
       "      <td>NaN</td>\n",
       "      <td>NaN</td>\n",
       "      <td>NaN</td>\n",
       "      <td>NaN</td>\n",
       "      <td>NaN</td>\n",
       "      <td>NaN</td>\n",
       "      <td>NaN</td>\n",
       "    </tr>\n",
       "    <tr>\n",
       "      <th>4</th>\n",
       "      <td>5</td>\n",
       "      <td>Montpellier</td>\n",
       "      <td>Female</td>\n",
       "      <td>25-34</td>\n",
       "      <td>3</td>\n",
       "      <td>4</td>\n",
       "      <td>Bachelor</td>\n",
       "      <td>167.0</td>\n",
       "      <td>61.0</td>\n",
       "      <td>NaN</td>\n",
       "      <td>...</td>\n",
       "      <td>NaN</td>\n",
       "      <td>NaN</td>\n",
       "      <td>NaN</td>\n",
       "      <td>NaN</td>\n",
       "      <td>NaN</td>\n",
       "      <td>NaN</td>\n",
       "      <td>NaN</td>\n",
       "      <td>NaN</td>\n",
       "      <td>NaN</td>\n",
       "      <td>NaN</td>\n",
       "    </tr>\n",
       "  </tbody>\n",
       "</table>\n",
       "<p>5 rows × 337 columns</p>\n",
       "</div>"
      ],
      "text/plain": [
       "   id         city  gender    age  hh_size  education          education_1  \\\n",
       "0   1     Bordeaux    Male  25-34        4          4  Master or doctorate   \n",
       "1   2        Lille    Male  35-44        1          3             Bachelor   \n",
       "2   3  Montpellier    Male  25-34        2          2  Master or doctorate   \n",
       "3   4         Lyon    Male    <25        1          1             Bachelor   \n",
       "4   5  Montpellier  Female  25-34        3          4             Bachelor   \n",
       "\n",
       "   height  weight  20-6-2013  ...  4-5-2014  5-5-2014  6-5-2014  7-5-2014  \\\n",
       "0   178.0    98.0        NaN  ...       NaN       NaN       NaN       NaN   \n",
       "1   180.0    77.0        NaN  ...       NaN       NaN       NaN       NaN   \n",
       "2   180.0    83.0        NaN  ...    3914.0    4364.0       NaN       NaN   \n",
       "3   178.0    80.0        NaN  ...       NaN       NaN       NaN       NaN   \n",
       "4   167.0    61.0        NaN  ...       NaN       NaN       NaN       NaN   \n",
       "\n",
       "   8-5-2014  9-5-2014  10-5-2014  11-5-2014  12-5-2014  13-5-2014  \n",
       "0       NaN       NaN        NaN        NaN        NaN        NaN  \n",
       "1       NaN       NaN        NaN        NaN        NaN        NaN  \n",
       "2       NaN    6227.0     4567.0     2567.0     1129.0        NaN  \n",
       "3       NaN       NaN        NaN        NaN        NaN        NaN  \n",
       "4       NaN       NaN        NaN        NaN        NaN        NaN  \n",
       "\n",
       "[5 rows x 337 columns]"
      ]
     },
     "execution_count": 4,
     "metadata": {},
     "output_type": "execute_result"
    }
   ],
   "source": [
    "df_combi = survey.merge(steps, on='id')\n",
    "df_combi.head()"
   ]
  },
  {
   "cell_type": "markdown",
   "metadata": {},
   "source": [
    "To check for weird values I use *.describe()*."
   ]
  },
  {
   "cell_type": "code",
   "execution_count": 5,
   "metadata": {},
   "outputs": [
    {
     "data": {
      "text/html": [
       "<div>\n",
       "<style scoped>\n",
       "    .dataframe tbody tr th:only-of-type {\n",
       "        vertical-align: middle;\n",
       "    }\n",
       "\n",
       "    .dataframe tbody tr th {\n",
       "        vertical-align: top;\n",
       "    }\n",
       "\n",
       "    .dataframe thead th {\n",
       "        text-align: right;\n",
       "    }\n",
       "</style>\n",
       "<table border=\"1\" class=\"dataframe\">\n",
       "  <thead>\n",
       "    <tr style=\"text-align: right;\">\n",
       "      <th></th>\n",
       "      <th>id</th>\n",
       "      <th>hh_size</th>\n",
       "      <th>education</th>\n",
       "      <th>height</th>\n",
       "      <th>weight</th>\n",
       "      <th>20-6-2013</th>\n",
       "      <th>21-6-2013</th>\n",
       "      <th>22-6-2013</th>\n",
       "      <th>23-6-2013</th>\n",
       "      <th>24-6-2013</th>\n",
       "      <th>...</th>\n",
       "      <th>4-5-2014</th>\n",
       "      <th>5-5-2014</th>\n",
       "      <th>6-5-2014</th>\n",
       "      <th>7-5-2014</th>\n",
       "      <th>8-5-2014</th>\n",
       "      <th>9-5-2014</th>\n",
       "      <th>10-5-2014</th>\n",
       "      <th>11-5-2014</th>\n",
       "      <th>12-5-2014</th>\n",
       "      <th>13-5-2014</th>\n",
       "    </tr>\n",
       "  </thead>\n",
       "  <tbody>\n",
       "    <tr>\n",
       "      <th>count</th>\n",
       "      <td>929.000000</td>\n",
       "      <td>929.000000</td>\n",
       "      <td>929.000000</td>\n",
       "      <td>928.000000</td>\n",
       "      <td>927.000000</td>\n",
       "      <td>24.000000</td>\n",
       "      <td>243.000000</td>\n",
       "      <td>278.000000</td>\n",
       "      <td>296.000000</td>\n",
       "      <td>354.000000</td>\n",
       "      <td>...</td>\n",
       "      <td>83.000000</td>\n",
       "      <td>78.000000</td>\n",
       "      <td>56.000000</td>\n",
       "      <td>56.000000</td>\n",
       "      <td>49.000000</td>\n",
       "      <td>71.000000</td>\n",
       "      <td>86.000000</td>\n",
       "      <td>81.000000</td>\n",
       "      <td>66.000000</td>\n",
       "      <td>0.0</td>\n",
       "    </tr>\n",
       "    <tr>\n",
       "      <th>mean</th>\n",
       "      <td>465.000000</td>\n",
       "      <td>2.342304</td>\n",
       "      <td>2.530678</td>\n",
       "      <td>171.668103</td>\n",
       "      <td>72.833873</td>\n",
       "      <td>3642.416667</td>\n",
       "      <td>9034.724280</td>\n",
       "      <td>10889.636691</td>\n",
       "      <td>7402.847973</td>\n",
       "      <td>8110.370056</td>\n",
       "      <td>...</td>\n",
       "      <td>8466.686747</td>\n",
       "      <td>6897.923077</td>\n",
       "      <td>8434.303571</td>\n",
       "      <td>9870.107143</td>\n",
       "      <td>7209.693878</td>\n",
       "      <td>9570.690141</td>\n",
       "      <td>7614.848837</td>\n",
       "      <td>6805.925926</td>\n",
       "      <td>7505.530303</td>\n",
       "      <td>NaN</td>\n",
       "    </tr>\n",
       "    <tr>\n",
       "      <th>std</th>\n",
       "      <td>268.323499</td>\n",
       "      <td>1.226129</td>\n",
       "      <td>1.274491</td>\n",
       "      <td>9.080235</td>\n",
       "      <td>25.902717</td>\n",
       "      <td>3951.910368</td>\n",
       "      <td>6412.774483</td>\n",
       "      <td>6283.204309</td>\n",
       "      <td>6733.291773</td>\n",
       "      <td>5495.536639</td>\n",
       "      <td>...</td>\n",
       "      <td>6923.674171</td>\n",
       "      <td>5915.429173</td>\n",
       "      <td>4960.932295</td>\n",
       "      <td>6812.625746</td>\n",
       "      <td>7539.387846</td>\n",
       "      <td>7264.297875</td>\n",
       "      <td>5521.711875</td>\n",
       "      <td>8458.979146</td>\n",
       "      <td>4706.609481</td>\n",
       "      <td>NaN</td>\n",
       "    </tr>\n",
       "    <tr>\n",
       "      <th>min</th>\n",
       "      <td>1.000000</td>\n",
       "      <td>1.000000</td>\n",
       "      <td>1.000000</td>\n",
       "      <td>145.000000</td>\n",
       "      <td>6.000000</td>\n",
       "      <td>164.000000</td>\n",
       "      <td>67.000000</td>\n",
       "      <td>25.000000</td>\n",
       "      <td>43.000000</td>\n",
       "      <td>11.000000</td>\n",
       "      <td>...</td>\n",
       "      <td>726.000000</td>\n",
       "      <td>12.000000</td>\n",
       "      <td>90.000000</td>\n",
       "      <td>88.000000</td>\n",
       "      <td>8.000000</td>\n",
       "      <td>664.000000</td>\n",
       "      <td>103.000000</td>\n",
       "      <td>12.000000</td>\n",
       "      <td>388.000000</td>\n",
       "      <td>NaN</td>\n",
       "    </tr>\n",
       "    <tr>\n",
       "      <th>25%</th>\n",
       "      <td>233.000000</td>\n",
       "      <td>1.000000</td>\n",
       "      <td>1.000000</td>\n",
       "      <td>165.000000</td>\n",
       "      <td>61.000000</td>\n",
       "      <td>299.500000</td>\n",
       "      <td>4395.500000</td>\n",
       "      <td>6524.250000</td>\n",
       "      <td>2726.750000</td>\n",
       "      <td>4428.250000</td>\n",
       "      <td>...</td>\n",
       "      <td>3538.000000</td>\n",
       "      <td>2082.000000</td>\n",
       "      <td>5525.750000</td>\n",
       "      <td>5629.500000</td>\n",
       "      <td>3393.000000</td>\n",
       "      <td>5149.000000</td>\n",
       "      <td>3950.000000</td>\n",
       "      <td>2510.000000</td>\n",
       "      <td>4932.000000</td>\n",
       "      <td>NaN</td>\n",
       "    </tr>\n",
       "    <tr>\n",
       "      <th>50%</th>\n",
       "      <td>465.000000</td>\n",
       "      <td>2.000000</td>\n",
       "      <td>2.000000</td>\n",
       "      <td>172.000000</td>\n",
       "      <td>71.000000</td>\n",
       "      <td>834.000000</td>\n",
       "      <td>8561.000000</td>\n",
       "      <td>9980.000000</td>\n",
       "      <td>5652.000000</td>\n",
       "      <td>7740.000000</td>\n",
       "      <td>...</td>\n",
       "      <td>5386.000000</td>\n",
       "      <td>6460.000000</td>\n",
       "      <td>7834.500000</td>\n",
       "      <td>9331.000000</td>\n",
       "      <td>5378.000000</td>\n",
       "      <td>7235.000000</td>\n",
       "      <td>6627.000000</td>\n",
       "      <td>3120.000000</td>\n",
       "      <td>6568.500000</td>\n",
       "      <td>NaN</td>\n",
       "    </tr>\n",
       "    <tr>\n",
       "      <th>75%</th>\n",
       "      <td>697.000000</td>\n",
       "      <td>3.000000</td>\n",
       "      <td>4.000000</td>\n",
       "      <td>179.000000</td>\n",
       "      <td>81.000000</td>\n",
       "      <td>6060.000000</td>\n",
       "      <td>12182.000000</td>\n",
       "      <td>14338.750000</td>\n",
       "      <td>10472.750000</td>\n",
       "      <td>10464.000000</td>\n",
       "      <td>...</td>\n",
       "      <td>11811.000000</td>\n",
       "      <td>9899.000000</td>\n",
       "      <td>11691.000000</td>\n",
       "      <td>14239.250000</td>\n",
       "      <td>8907.000000</td>\n",
       "      <td>12062.500000</td>\n",
       "      <td>10031.500000</td>\n",
       "      <td>6544.000000</td>\n",
       "      <td>9549.000000</td>\n",
       "      <td>NaN</td>\n",
       "    </tr>\n",
       "    <tr>\n",
       "      <th>max</th>\n",
       "      <td>929.000000</td>\n",
       "      <td>11.000000</td>\n",
       "      <td>5.000000</td>\n",
       "      <td>195.000000</td>\n",
       "      <td>700.000000</td>\n",
       "      <td>11157.000000</td>\n",
       "      <td>44944.000000</td>\n",
       "      <td>39165.000000</td>\n",
       "      <td>40392.000000</td>\n",
       "      <td>29862.000000</td>\n",
       "      <td>...</td>\n",
       "      <td>28703.000000</td>\n",
       "      <td>26654.000000</td>\n",
       "      <td>26660.000000</td>\n",
       "      <td>38400.000000</td>\n",
       "      <td>37530.000000</td>\n",
       "      <td>33379.000000</td>\n",
       "      <td>27605.000000</td>\n",
       "      <td>36031.000000</td>\n",
       "      <td>33660.000000</td>\n",
       "      <td>NaN</td>\n",
       "    </tr>\n",
       "  </tbody>\n",
       "</table>\n",
       "<p>8 rows × 333 columns</p>\n",
       "</div>"
      ],
      "text/plain": [
       "               id     hh_size   education      height      weight  \\\n",
       "count  929.000000  929.000000  929.000000  928.000000  927.000000   \n",
       "mean   465.000000    2.342304    2.530678  171.668103   72.833873   \n",
       "std    268.323499    1.226129    1.274491    9.080235   25.902717   \n",
       "min      1.000000    1.000000    1.000000  145.000000    6.000000   \n",
       "25%    233.000000    1.000000    1.000000  165.000000   61.000000   \n",
       "50%    465.000000    2.000000    2.000000  172.000000   71.000000   \n",
       "75%    697.000000    3.000000    4.000000  179.000000   81.000000   \n",
       "max    929.000000   11.000000    5.000000  195.000000  700.000000   \n",
       "\n",
       "          20-6-2013     21-6-2013     22-6-2013     23-6-2013     24-6-2013  \\\n",
       "count     24.000000    243.000000    278.000000    296.000000    354.000000   \n",
       "mean    3642.416667   9034.724280  10889.636691   7402.847973   8110.370056   \n",
       "std     3951.910368   6412.774483   6283.204309   6733.291773   5495.536639   \n",
       "min      164.000000     67.000000     25.000000     43.000000     11.000000   \n",
       "25%      299.500000   4395.500000   6524.250000   2726.750000   4428.250000   \n",
       "50%      834.000000   8561.000000   9980.000000   5652.000000   7740.000000   \n",
       "75%     6060.000000  12182.000000  14338.750000  10472.750000  10464.000000   \n",
       "max    11157.000000  44944.000000  39165.000000  40392.000000  29862.000000   \n",
       "\n",
       "       ...      4-5-2014      5-5-2014      6-5-2014      7-5-2014  \\\n",
       "count  ...     83.000000     78.000000     56.000000     56.000000   \n",
       "mean   ...   8466.686747   6897.923077   8434.303571   9870.107143   \n",
       "std    ...   6923.674171   5915.429173   4960.932295   6812.625746   \n",
       "min    ...    726.000000     12.000000     90.000000     88.000000   \n",
       "25%    ...   3538.000000   2082.000000   5525.750000   5629.500000   \n",
       "50%    ...   5386.000000   6460.000000   7834.500000   9331.000000   \n",
       "75%    ...  11811.000000   9899.000000  11691.000000  14239.250000   \n",
       "max    ...  28703.000000  26654.000000  26660.000000  38400.000000   \n",
       "\n",
       "           8-5-2014      9-5-2014     10-5-2014     11-5-2014     12-5-2014  \\\n",
       "count     49.000000     71.000000     86.000000     81.000000     66.000000   \n",
       "mean    7209.693878   9570.690141   7614.848837   6805.925926   7505.530303   \n",
       "std     7539.387846   7264.297875   5521.711875   8458.979146   4706.609481   \n",
       "min        8.000000    664.000000    103.000000     12.000000    388.000000   \n",
       "25%     3393.000000   5149.000000   3950.000000   2510.000000   4932.000000   \n",
       "50%     5378.000000   7235.000000   6627.000000   3120.000000   6568.500000   \n",
       "75%     8907.000000  12062.500000  10031.500000   6544.000000   9549.000000   \n",
       "max    37530.000000  33379.000000  27605.000000  36031.000000  33660.000000   \n",
       "\n",
       "       13-5-2014  \n",
       "count        0.0  \n",
       "mean         NaN  \n",
       "std          NaN  \n",
       "min          NaN  \n",
       "25%          NaN  \n",
       "50%          NaN  \n",
       "75%          NaN  \n",
       "max          NaN  \n",
       "\n",
       "[8 rows x 333 columns]"
      ]
     },
     "execution_count": 5,
     "metadata": {},
     "output_type": "execute_result"
    }
   ],
   "source": [
    "df_combi.describe()"
   ]
  },
  {
   "cell_type": "markdown",
   "metadata": {},
   "source": [
    "The 'weight' column has some extreme low and high values, so those need to be removed. I picked 30 and 300 as more realistic ends for the 'weight' value and re-created the dataframe. Sorting quickly shows the new highest and lowest values."
   ]
  },
  {
   "cell_type": "code",
   "execution_count": 6,
   "metadata": {},
   "outputs": [
    {
     "data": {
      "text/plain": [
       "102     37.0\n",
       "67      45.0\n",
       "630     45.0\n",
       "198     45.0\n",
       "122     45.0\n",
       "       ...  \n",
       "583    140.0\n",
       "323    140.0\n",
       "257    149.0\n",
       "549    155.0\n",
       "820    155.0\n",
       "Name: weight, Length: 924, dtype: float64"
      ]
     },
     "execution_count": 6,
     "metadata": {},
     "output_type": "execute_result"
    }
   ],
   "source": [
    "df_combi = df_combi[(df_combi['weight'] > 30) & (df_combi['weight'] < 300)]\n",
    "df_combi['weight'].sort_values()"
   ]
  },
  {
   "cell_type": "markdown",
   "metadata": {},
   "source": [
    "Create the variable mean steps per participant. "
   ]
  },
  {
   "cell_type": "code",
   "execution_count": 7,
   "metadata": {},
   "outputs": [
    {
     "data": {
      "text/html": [
       "<div>\n",
       "<style scoped>\n",
       "    .dataframe tbody tr th:only-of-type {\n",
       "        vertical-align: middle;\n",
       "    }\n",
       "\n",
       "    .dataframe tbody tr th {\n",
       "        vertical-align: top;\n",
       "    }\n",
       "\n",
       "    .dataframe thead th {\n",
       "        text-align: right;\n",
       "    }\n",
       "</style>\n",
       "<table border=\"1\" class=\"dataframe\">\n",
       "  <thead>\n",
       "    <tr style=\"text-align: right;\">\n",
       "      <th></th>\n",
       "      <th>id</th>\n",
       "      <th>city</th>\n",
       "      <th>gender</th>\n",
       "      <th>age</th>\n",
       "      <th>hh_size</th>\n",
       "      <th>education</th>\n",
       "      <th>education_1</th>\n",
       "      <th>height</th>\n",
       "      <th>weight</th>\n",
       "      <th>20-6-2013</th>\n",
       "      <th>...</th>\n",
       "      <th>5-5-2014</th>\n",
       "      <th>6-5-2014</th>\n",
       "      <th>7-5-2014</th>\n",
       "      <th>8-5-2014</th>\n",
       "      <th>9-5-2014</th>\n",
       "      <th>10-5-2014</th>\n",
       "      <th>11-5-2014</th>\n",
       "      <th>12-5-2014</th>\n",
       "      <th>13-5-2014</th>\n",
       "      <th>mean</th>\n",
       "    </tr>\n",
       "  </thead>\n",
       "  <tbody>\n",
       "    <tr>\n",
       "      <th>0</th>\n",
       "      <td>1</td>\n",
       "      <td>Bordeaux</td>\n",
       "      <td>Male</td>\n",
       "      <td>25-34</td>\n",
       "      <td>4</td>\n",
       "      <td>4</td>\n",
       "      <td>Master or doctorate</td>\n",
       "      <td>178.0</td>\n",
       "      <td>98.0</td>\n",
       "      <td>NaN</td>\n",
       "      <td>...</td>\n",
       "      <td>NaN</td>\n",
       "      <td>NaN</td>\n",
       "      <td>NaN</td>\n",
       "      <td>NaN</td>\n",
       "      <td>NaN</td>\n",
       "      <td>NaN</td>\n",
       "      <td>NaN</td>\n",
       "      <td>NaN</td>\n",
       "      <td>NaN</td>\n",
       "      <td>10205.521212</td>\n",
       "    </tr>\n",
       "    <tr>\n",
       "      <th>1</th>\n",
       "      <td>2</td>\n",
       "      <td>Lille</td>\n",
       "      <td>Male</td>\n",
       "      <td>35-44</td>\n",
       "      <td>1</td>\n",
       "      <td>3</td>\n",
       "      <td>Bachelor</td>\n",
       "      <td>180.0</td>\n",
       "      <td>77.0</td>\n",
       "      <td>NaN</td>\n",
       "      <td>...</td>\n",
       "      <td>NaN</td>\n",
       "      <td>NaN</td>\n",
       "      <td>NaN</td>\n",
       "      <td>NaN</td>\n",
       "      <td>NaN</td>\n",
       "      <td>NaN</td>\n",
       "      <td>NaN</td>\n",
       "      <td>NaN</td>\n",
       "      <td>NaN</td>\n",
       "      <td>5687.423313</td>\n",
       "    </tr>\n",
       "    <tr>\n",
       "      <th>2</th>\n",
       "      <td>3</td>\n",
       "      <td>Montpellier</td>\n",
       "      <td>Male</td>\n",
       "      <td>25-34</td>\n",
       "      <td>2</td>\n",
       "      <td>2</td>\n",
       "      <td>Master or doctorate</td>\n",
       "      <td>180.0</td>\n",
       "      <td>83.0</td>\n",
       "      <td>NaN</td>\n",
       "      <td>...</td>\n",
       "      <td>4364.0</td>\n",
       "      <td>NaN</td>\n",
       "      <td>NaN</td>\n",
       "      <td>NaN</td>\n",
       "      <td>6227.0</td>\n",
       "      <td>4567.0</td>\n",
       "      <td>2567.0</td>\n",
       "      <td>1129.0</td>\n",
       "      <td>NaN</td>\n",
       "      <td>8301.729730</td>\n",
       "    </tr>\n",
       "    <tr>\n",
       "      <th>3</th>\n",
       "      <td>4</td>\n",
       "      <td>Lyon</td>\n",
       "      <td>Male</td>\n",
       "      <td>&lt;25</td>\n",
       "      <td>1</td>\n",
       "      <td>1</td>\n",
       "      <td>Bachelor</td>\n",
       "      <td>178.0</td>\n",
       "      <td>80.0</td>\n",
       "      <td>NaN</td>\n",
       "      <td>...</td>\n",
       "      <td>NaN</td>\n",
       "      <td>NaN</td>\n",
       "      <td>NaN</td>\n",
       "      <td>NaN</td>\n",
       "      <td>NaN</td>\n",
       "      <td>NaN</td>\n",
       "      <td>NaN</td>\n",
       "      <td>NaN</td>\n",
       "      <td>NaN</td>\n",
       "      <td>3633.200000</td>\n",
       "    </tr>\n",
       "    <tr>\n",
       "      <th>4</th>\n",
       "      <td>5</td>\n",
       "      <td>Montpellier</td>\n",
       "      <td>Female</td>\n",
       "      <td>25-34</td>\n",
       "      <td>3</td>\n",
       "      <td>4</td>\n",
       "      <td>Bachelor</td>\n",
       "      <td>167.0</td>\n",
       "      <td>61.0</td>\n",
       "      <td>NaN</td>\n",
       "      <td>...</td>\n",
       "      <td>NaN</td>\n",
       "      <td>NaN</td>\n",
       "      <td>NaN</td>\n",
       "      <td>NaN</td>\n",
       "      <td>NaN</td>\n",
       "      <td>NaN</td>\n",
       "      <td>NaN</td>\n",
       "      <td>NaN</td>\n",
       "      <td>NaN</td>\n",
       "      <td>5312.129630</td>\n",
       "    </tr>\n",
       "  </tbody>\n",
       "</table>\n",
       "<p>5 rows × 338 columns</p>\n",
       "</div>"
      ],
      "text/plain": [
       "   id         city  gender    age  hh_size  education          education_1  \\\n",
       "0   1     Bordeaux    Male  25-34        4          4  Master or doctorate   \n",
       "1   2        Lille    Male  35-44        1          3             Bachelor   \n",
       "2   3  Montpellier    Male  25-34        2          2  Master or doctorate   \n",
       "3   4         Lyon    Male    <25        1          1             Bachelor   \n",
       "4   5  Montpellier  Female  25-34        3          4             Bachelor   \n",
       "\n",
       "   height  weight  20-6-2013  ...  5-5-2014  6-5-2014  7-5-2014  8-5-2014  \\\n",
       "0   178.0    98.0        NaN  ...       NaN       NaN       NaN       NaN   \n",
       "1   180.0    77.0        NaN  ...       NaN       NaN       NaN       NaN   \n",
       "2   180.0    83.0        NaN  ...    4364.0       NaN       NaN       NaN   \n",
       "3   178.0    80.0        NaN  ...       NaN       NaN       NaN       NaN   \n",
       "4   167.0    61.0        NaN  ...       NaN       NaN       NaN       NaN   \n",
       "\n",
       "   9-5-2014  10-5-2014  11-5-2014  12-5-2014  13-5-2014          mean  \n",
       "0       NaN        NaN        NaN        NaN        NaN  10205.521212  \n",
       "1       NaN        NaN        NaN        NaN        NaN   5687.423313  \n",
       "2    6227.0     4567.0     2567.0     1129.0        NaN   8301.729730  \n",
       "3       NaN        NaN        NaN        NaN        NaN   3633.200000  \n",
       "4       NaN        NaN        NaN        NaN        NaN   5312.129630  \n",
       "\n",
       "[5 rows x 338 columns]"
      ]
     },
     "execution_count": 7,
     "metadata": {},
     "output_type": "execute_result"
    }
   ],
   "source": [
    "df_combi['mean'] = df_combi.loc[:, '20-6-2013':'13-5-2014'].mean(axis=1)\n",
    "df_combi.head()"
   ]
  },
  {
   "cell_type": "markdown",
   "metadata": {},
   "source": [
    "## The analysis\n",
    "\n",
    "#### An analysis of mean steps per participant:\n",
    "- Graph of the distribution (e.g., histogram, box plot, density plot, violin plot)\n",
    "- Summary statistics (measure of central tendency and variation, e.g., mean, median, variance)\n",
    "- Verbal description of the distribution, including commenting on normality, skewness, outliers, etc."
   ]
  },
  {
   "cell_type": "code",
   "execution_count": 8,
   "metadata": {},
   "outputs": [
    {
     "data": {
      "image/png": "[encoded data removed]",
      "text/plain": [
       "<Figure size 432x288 with 1 Axes>"
      ]
     },
     "metadata": {
      "needs_background": "light"
     },
     "output_type": "display_data"
    }
   ],
   "source": [
    "df_combi['mean'].name = 'Mean steps' #Labeling the variable for plotting\n",
    "df_combi = df_combi.dropna(subset=['mean'])\n",
    "sns.histplot(df_combi['mean'], kde=False) \n",
    "plt.title('Mean steps per participant')\n",
    "plt.show()"
   ]
  },
  {
   "cell_type": "markdown",
   "metadata": {},
   "source": [
    "Based on the histogram it is clear that there are a few massive outliers on the high end. This is supported by the summary statistics printed with *.describe()*: The *max* value is 201722.6, while the value for the 75% is only 8366.83. On the low end there is also a big difference between the smallest value and the 25% (4.0 to 4633.9) but that is still a lot closer. A quick look at the highest and lowest 5 numbers with *.sort_values()* shows that the highest mean is more than 3 times as big as the second highest mean. "
   ]
  },
  {
   "cell_type": "code",
   "execution_count": 9,
   "metadata": {},
   "outputs": [
    {
     "data": {
      "text/plain": [
       "count       920.000000\n",
       "mean       7021.510401\n",
       "std        7406.689567\n",
       "min           4.000000\n",
       "25%        4633.941050\n",
       "50%        6244.931602\n",
       "75%        8366.832967\n",
       "max      201722.600000\n",
       "Name: mean, dtype: float64"
      ]
     },
     "execution_count": 9,
     "metadata": {},
     "output_type": "execute_result"
    }
   ],
   "source": [
    "df_combi['mean'].describe()"
   ]
  },
  {
   "cell_type": "code",
   "execution_count": 10,
   "metadata": {},
   "outputs": [
    {
     "data": {
      "text/plain": [
       "616         4.000000\n",
       "120       842.000000\n",
       "766      1032.500000\n",
       "866      1210.000000\n",
       "30       1218.500000\n",
       "           ...      \n",
       "109     22842.716846\n",
       "205     30373.808917\n",
       "881     43912.307692\n",
       "95      58491.067568\n",
       "740    201722.600000\n",
       "Name: mean, Length: 920, dtype: float64"
      ]
     },
     "execution_count": 10,
     "metadata": {},
     "output_type": "execute_result"
    }
   ],
   "source": [
    "df_combi['mean'].sort_values()"
   ]
  },
  {
   "cell_type": "markdown",
   "metadata": {},
   "source": [
    "Let's try to remove the outliers. The biggest number is very likely an error. The average amount of steps can be anywhere between 90 - 180 per minute, depending on if someone is walking or running. Even assuming someone is always running while wearing the tracker, they'd need to run about 18 hours *on average* to reach 201722.6 steps on average over the period of time in the dataset. The second highest mean could be true, assuming 100 steps per minute works out to 9.78 hours of walking on average, so someone with a very physical job who wore the tracker every day."
   ]
  },
  {
   "cell_type": "code",
   "execution_count": 42,
   "metadata": {},
   "outputs": [],
   "source": [
    "df_combi = df_combi[(df_combi['mean'] < 60000)]"
   ]
  },
  {
   "cell_type": "code",
   "execution_count": 43,
   "metadata": {
    "scrolled": false
   },
   "outputs": [
    {
     "data": {
      "image/png": "[encoded data removed]",
      "text/plain": [
       "<Figure size 432x288 with 1 Axes>"
      ]
     },
     "metadata": {
      "needs_background": "light"
     },
     "output_type": "display_data"
    }
   ],
   "source": [
    "df_combi['mean'].name = 'Mean steps' #Labeling the variable for plotting\n",
    "sns.histplot(df_combi['mean'], kde=False) \n",
    "plt.title('Mean steps per participant (corrected)')\n",
    "plt.show()"
   ]
  },
  {
   "cell_type": "markdown",
   "metadata": {},
   "source": [
    "Even though the remaining extremes might not be errors, it would be interesting to see the majority of the data a bit closer. But since I don't know if the extremes are errors, I'll make a new dataframe for the next graph."
   ]
  },
  {
   "cell_type": "code",
   "execution_count": 44,
   "metadata": {},
   "outputs": [
    {
     "data": {
      "image/png": "[encoded data removed]",
      "text/plain": [
       "<Figure size 432x288 with 1 Axes>"
      ]
     },
     "metadata": {
      "needs_background": "light"
     },
     "output_type": "display_data"
    }
   ],
   "source": [
    "df_2 = df_combi[(df_combi['mean'] < 17500)]\n",
    "df_2['mean'].name = 'Mean steps' #Labeling the variable for plotting\n",
    "sns.histplot(df_2['mean'], kde=False) \n",
    "plt.title('Mean steps per participant (without extremes)')\n",
    "plt.show()"
   ]
  },
  {
   "cell_type": "markdown",
   "metadata": {},
   "source": [
    "Even with the biggest outliers removed, the distribution is still skewed right, though the shape is a lot closer to a normal distribution.\n",
    "\n",
    "Below some statistics, for the entire dataset:"
   ]
  },
  {
   "cell_type": "code",
   "execution_count": 48,
   "metadata": {},
   "outputs": [
    {
     "name": "stdout",
     "output_type": "stream",
     "text": [
      "The mean amount of mean steps is: 6809.648497585308\n",
      "The median amount of mean steps is: 6244.857142857143\n",
      "The variance of the amount of mean steps is: 13579197.415924795\n",
      "The standard deviation of the amount of mean steps is: 3684.996257247054\n"
     ]
    }
   ],
   "source": [
    "steps_mean = df_combi['mean'].mean()\n",
    "steps_median = df_combi['mean'].median()\n",
    "steps_var = df_combi['mean'].var()\n",
    "steps_std = df_combi['mean'].std()\n",
    "\n",
    "print(f'The mean amount of mean steps is: {steps_mean}')\n",
    "print(f'The median amount of mean steps is: {steps_median}')\n",
    "print(f'The variance of the amount of mean steps is: {steps_var}')\n",
    "print(f'The standard deviation of the amount of mean steps is: {steps_std}')"
   ]
  },
  {
   "cell_type": "markdown",
   "metadata": {},
   "source": [
    "And the same, but without the outliers:"
   ]
  },
  {
   "cell_type": "code",
   "execution_count": 51,
   "metadata": {},
   "outputs": [
    {
     "name": "stdout",
     "output_type": "stream",
     "text": [
      "The mean amount of mean steps is: 6639.802340101819\n",
      "The median amount of mean steps is: 6235.238095238095\n",
      "The variance of the amount of mean steps is: 7920168.2875329135\n",
      "The standard deviation of the amount of mean steps is: 2814.2793549207076\n"
     ]
    }
   ],
   "source": [
    "steps_mean_2 = df_2['mean'].mean()\n",
    "steps_median_2 = df_2['mean'].median()\n",
    "steps_var_2 = df_2['mean'].var()\n",
    "steps_std_2 = df_2['mean'].std()\n",
    "\n",
    "print(f'The mean amount of mean steps is: {steps_mean_2}')\n",
    "print(f'The median amount of mean steps is: {steps_median_2}')\n",
    "print(f'The variance of the amount of mean steps is: {steps_var_2}')\n",
    "print(f'The standard deviation of the amount of mean steps is: {steps_std_2}')"
   ]
  },
  {
   "cell_type": "markdown",
   "metadata": {},
   "source": [
    "#### The relation of mean steps per participant with a categorical variable with two levels (e.g. gender, weekday vs weekend)\n",
    "- Graph of the relation (e.g. histograms, box plots, density plots, violin plots). Try a different plot this time.\n",
    "- Verbal description of the relation\n"
   ]
  },
  {
   "cell_type": "code",
   "execution_count": 52,
   "metadata": {
    "scrolled": true
   },
   "outputs": [
    {
     "data": {
      "image/png": "[encoded data removed]",
      "text/plain": [
       "<Figure size 432x288 with 1 Axes>"
      ]
     },
     "metadata": {
      "needs_background": "light"
     },
     "output_type": "display_data"
    }
   ],
   "source": [
    "df_2['gender'].name = 'Gender'\n",
    "sns.violinplot(x=df_2['mean'], y=df_2['gender'])\n",
    "plt.title('Mean steps per gender')\n",
    "plt.show()"
   ]
  },
  {
   "cell_type": "markdown",
   "metadata": {},
   "source": [
    "There isn't a very big difference between men and women for the mean steps. The distribution of 'Male' is more symmetrical, only a little bit right-skewed, while the 'Female' distribution is more clearly right-skewed. \n",
    "\n",
    "To be complete below is also the same graph with the outliers in the steps included. Most outliers seem to be from women. Though it's a bit harder to see, the 'point' of the 'Male' graph is also a little further out than in the graph above, so there is at least one man in the 'outliers' group. "
   ]
  },
  {
   "cell_type": "code",
   "execution_count": 53,
   "metadata": {
    "scrolled": true
   },
   "outputs": [
    {
     "data": {
      "image/png": "[encoded data removed]",
      "text/plain": [
       "<Figure size 432x288 with 1 Axes>"
      ]
     },
     "metadata": {
      "needs_background": "light"
     },
     "output_type": "display_data"
    }
   ],
   "source": [
    "df_combi['gender'].name = 'Gender'\n",
    "sns.violinplot(x=df_combi['mean'], y=df_combi['gender'])\n",
    "plt.title('Mean steps per gender including extreme outliers')\n",
    "plt.show()"
   ]
  },
  {
   "cell_type": "markdown",
   "metadata": {},
   "source": [
    "\n",
    "#### The relation between two categorical variables\n",
    "- Graph of the relation (bar plot)\n",
    "- Cross table with relevant percentages\n",
    "- Verbal description of the relation"
   ]
  },
  {
   "cell_type": "markdown",
   "metadata": {},
   "source": [
    "I looked at the relationship between age and gender. In al but one age group there were more men than women. The exeption was 45-54 year olds. But it was very close in both 35-44 and 55-64. The two youngest age groups and the oldest in comparison have clearly more men. "
   ]
  },
  {
   "cell_type": "code",
   "execution_count": 75,
   "metadata": {
    "scrolled": true
   },
   "outputs": [
    {
     "data": {
      "image/png": "[encoded data removed]",
      "text/plain": [
       "<Figure size 432x288 with 1 Axes>"
      ]
     },
     "metadata": {
      "needs_background": "light"
     },
     "output_type": "display_data"
    }
   ],
   "source": [
    "df_2['age'].name = 'Age'\n",
    "sns.countplot(x=df_2['age'], hue=df_2['gender'], order=['<25', '25-34', '35-44', '45-54', '55-64', '65+'])\n",
    "plt.title('Gender of participants accross age groups')\n",
    "plt.show()"
   ]
  },
  {
   "cell_type": "markdown",
   "metadata": {},
   "source": [
    "If you look at the bar pot, it seems that the biggest difference of men and women is in the 35-34 age group. But with a crosstab with percentages, you see that actually the 65+ group has the biggest difference, but because they have so much less participants this is a lot harder to see. "
   ]
  },
  {
   "cell_type": "code",
   "execution_count": 76,
   "metadata": {},
   "outputs": [
    {
     "data": {
      "text/html": [
       "<div>\n",
       "<style scoped>\n",
       "    .dataframe tbody tr th:only-of-type {\n",
       "        vertical-align: middle;\n",
       "    }\n",
       "\n",
       "    .dataframe tbody tr th {\n",
       "        vertical-align: top;\n",
       "    }\n",
       "\n",
       "    .dataframe thead th {\n",
       "        text-align: right;\n",
       "    }\n",
       "</style>\n",
       "<table border=\"1\" class=\"dataframe\">\n",
       "  <thead>\n",
       "    <tr style=\"text-align: right;\">\n",
       "      <th>Gender</th>\n",
       "      <th>Female</th>\n",
       "      <th>Male</th>\n",
       "    </tr>\n",
       "    <tr>\n",
       "      <th>Age</th>\n",
       "      <th></th>\n",
       "      <th></th>\n",
       "    </tr>\n",
       "  </thead>\n",
       "  <tbody>\n",
       "    <tr>\n",
       "      <th>25-34</th>\n",
       "      <td>0.427896</td>\n",
       "      <td>0.572104</td>\n",
       "    </tr>\n",
       "    <tr>\n",
       "      <th>35-44</th>\n",
       "      <td>0.497110</td>\n",
       "      <td>0.502890</td>\n",
       "    </tr>\n",
       "    <tr>\n",
       "      <th>45-54</th>\n",
       "      <td>0.545455</td>\n",
       "      <td>0.454545</td>\n",
       "    </tr>\n",
       "    <tr>\n",
       "      <th>55-64</th>\n",
       "      <td>0.488889</td>\n",
       "      <td>0.511111</td>\n",
       "    </tr>\n",
       "    <tr>\n",
       "      <th>65+</th>\n",
       "      <td>0.142857</td>\n",
       "      <td>0.857143</td>\n",
       "    </tr>\n",
       "    <tr>\n",
       "      <th>&lt;25</th>\n",
       "      <td>0.459016</td>\n",
       "      <td>0.540984</td>\n",
       "    </tr>\n",
       "  </tbody>\n",
       "</table>\n",
       "</div>"
      ],
      "text/plain": [
       "Gender    Female      Male\n",
       "Age                       \n",
       "25-34   0.427896  0.572104\n",
       "35-44   0.497110  0.502890\n",
       "45-54   0.545455  0.454545\n",
       "55-64   0.488889  0.511111\n",
       "65+     0.142857  0.857143\n",
       "<25     0.459016  0.540984"
      ]
     },
     "execution_count": 76,
     "metadata": {},
     "output_type": "execute_result"
    }
   ],
   "source": [
    "pd.crosstab(df_2[\"age\"],df_2[\"gender\"], normalize=\"index\")"
   ]
  },
  {
   "cell_type": "code",
   "execution_count": null,
   "metadata": {},
   "outputs": [],
   "source": []
  }
 ],
 "metadata": {
  "kernelspec": {
   "display_name": "Python 3",
   "language": "python",
   "name": "python3"
  },
  "language_info": {
   "codemirror_mode": {
    "name": "ipython",
    "version": 3
   },
   "file_extension": ".py",
   "mimetype": "text/x-python",
   "name": "python",
   "nbconvert_exporter": "python",
   "pygments_lexer": "ipython3",
   "version": "3.8.5"
  }
 },
 "nbformat": 4,
 "nbformat_minor": 4
}
